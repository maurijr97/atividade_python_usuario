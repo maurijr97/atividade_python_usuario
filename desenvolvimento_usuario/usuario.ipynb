{
 "cells": [
  {
   "cell_type": "code",
   "execution_count": 1,
   "id": "36df0b9b",
   "metadata": {},
   "outputs": [
    {
     "name": "stdout",
     "output_type": "stream",
     "text": [
      "Qual o seu nome completo?\n",
      "Maurício de Melo A. Júnior\n",
      "Qual o seu ano de nascimento?\n",
      "1003\n",
      "O ano precisa ser entre 1922 e 2021\n",
      "Qual o seu ano de nascimento?\n",
      "não entendi\n",
      "Caro usuário, os anos devem escritos apenas com números\n",
      "Qual o seu ano de nascimento?\n",
      "1997\n",
      "O usuário Maurício de Melo A. Júnior completou/completará 25 anos de idade em 2022\n"
     ]
    }
   ],
   "source": [
    "print(\"Qual o seu nome completo?\")\n",
    "nome = input()\n",
    "\n",
    "executar = True\n",
    "\n",
    "while(executar == True):\n",
    "    print(\"Qual o seu ano de nascimento?\")\n",
    "    try:\n",
    "        ano = int(input())\n",
    "        if(ano < 1922) or (ano > 2021):\n",
    "            print(\"O ano precisa ser entre 1922 e 2021\")\n",
    "        else:\n",
    "            idade = 2022 - ano\n",
    "            print(\"O usuário\", nome, \"completou/completará\", idade, \"anos de idade em 2022\")\n",
    "            executar = False\n",
    "    except:\n",
    "        print(\"Caro usuário, os anos devem escritos apenas com números\")"
   ]
  }
 ],
 "metadata": {
  "kernelspec": {
   "display_name": "Python 3 (ipykernel)",
   "language": "python",
   "name": "python3"
  },
  "language_info": {
   "codemirror_mode": {
    "name": "ipython",
    "version": 3
   },
   "file_extension": ".py",
   "mimetype": "text/x-python",
   "name": "python",
   "nbconvert_exporter": "python",
   "pygments_lexer": "ipython3",
   "version": "3.11.3"
  }
 },
 "nbformat": 4,
 "nbformat_minor": 5
}
